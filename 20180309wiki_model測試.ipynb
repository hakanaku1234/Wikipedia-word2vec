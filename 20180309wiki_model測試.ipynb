{
 "cells": [
  {
   "cell_type": "code",
   "execution_count": 1,
   "metadata": {},
   "outputs": [
    {
     "name": "stderr",
     "output_type": "stream",
     "text": [
      "C:\\Users\\User\\Anaconda3\\lib\\site-packages\\gensim\\utils.py:860: UserWarning: detected Windows; aliasing chunkize to chunkize_serial\n",
      "  warnings.warn(\"detected Windows; aliasing chunkize to chunkize_serial\")\n"
     ]
    }
   ],
   "source": [
    "from gensim.models import word2vec\n",
    "\n",
    "model = word2vec.Word2Vec.load(\"model/20180309wiki_model.bin\")"
   ]
  },
  {
   "cell_type": "code",
   "execution_count": 2,
   "metadata": {},
   "outputs": [
    {
     "name": "stdout",
     "output_type": "stream",
     "text": [
      "糖尿病\n",
      "相似詞前 10 排序\n",
      "肝炎,0.8138002157211304\n",
      "高血壓,0.7764765024185181\n",
      "腎病,0.7764045000076294\n",
      "慢性,0.7753705978393555\n",
      "血友病,0.7671875953674316\n",
      "精神分裂症,0.7544440031051636\n",
      "此病,0.7543643712997437\n",
      "腦膜炎,0.7527002692222595\n",
      "肥胖症,0.7448720335960388\n",
      "乳腺癌,0.743915855884552\n"
     ]
    }
   ],
   "source": [
    "# 輸入一個詞，去尋找前十個相似詞\n",
    "\n",
    "query = input()\n",
    "\n",
    "print(\"相似詞前 10 排序\")\n",
    "res = model.most_similar(query, topn = 10)\n",
    "    \n",
    "for item in res:\n",
    "    print(item[0]+\",\"+str(item[1]))"
   ]
  },
  {
   "cell_type": "code",
   "execution_count": 3,
   "metadata": {},
   "outputs": [
    {
     "name": "stdout",
     "output_type": "stream",
     "text": [
      "糖尿病 腎衰竭\n",
      "計算 Cosine 相似度\n",
      "0.688396968808\n"
     ]
    }
   ],
   "source": [
    "#輸入兩個詞，去計算兩個詞的餘弦相似度\n",
    "\n",
    "query = input()\n",
    "q_list = query.split()\n",
    "\n",
    "print(\"計算 Cosine 相似度\")\n",
    "res = model.similarity(q_list[0],q_list[1])\n",
    "print(res)"
   ]
  },
  {
   "cell_type": "code",
   "execution_count": null,
   "metadata": {},
   "outputs": [],
   "source": [
    "# 輸入三個詞，進行類比推理\n",
    "\n",
    "query = input()\n",
    "q_list = query.split()\n",
    "\n",
    "print(\"%s之於%s，如%s之於\" % (q_list[0],q_list[2],q_list[1]))\n",
    "res = model.most_similar([q_list[0],q_list[1]], [q_list[2]], topn= 100)\n",
    "for item in res:\n",
    "    print(item[0]+\",\"+str(item[1]))"
   ]
  },
  {
   "cell_type": "code",
   "execution_count": null,
   "metadata": {
    "collapsed": true
   },
   "outputs": [],
   "source": []
  }
 ],
 "metadata": {
  "kernelspec": {
   "display_name": "Python 3",
   "language": "python",
   "name": "python3"
  },
  "language_info": {
   "codemirror_mode": {
    "name": "ipython",
    "version": 3
   },
   "file_extension": ".py",
   "mimetype": "text/x-python",
   "name": "python",
   "nbconvert_exporter": "python",
   "pygments_lexer": "ipython3",
   "version": "3.6.1"
  }
 },
 "nbformat": 4,
 "nbformat_minor": 2
}
